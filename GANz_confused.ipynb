{
  "nbformat": 4,
  "nbformat_minor": 0,
  "metadata": {
    "accelerator": "GPU",
    "colab": {
      "name": "GANz_confused.ipynb",
      "provenance": [],
      "collapsed_sections": []
    },
    "kernelspec": {
      "display_name": "Python 3",
      "name": "python3"
    }
  },
  "cells": [
    {
      "cell_type": "code",
      "metadata": {
        "id": "0HAmJodgPN7I"
      },
      "source": [
        "import tensorflow as tf\r\n",
        "from tensorflow import keras\r\n",
        "import numpy as np\r\n",
        "from matplotlib import pyplot as plt\r\n",
        "from keras.layers import Conv2D, Dense, MaxPooling2D, Dropout, Flatten, Conv2DTranspose, Reshape, BatchNormalization\r\n",
        "from tqdm import tqdm"
      ],
      "execution_count": 1,
      "outputs": []
    },
    {
      "cell_type": "code",
      "metadata": {
        "id": "2igQ-_U9PjYw"
      },
      "source": [
        "(x_train, _), (x_test, y_test) = tf.keras.datasets.fashion_mnist.load_data()"
      ],
      "execution_count": 2,
      "outputs": []
    },
    {
      "cell_type": "code",
      "metadata": {
        "id": "8q71cNxFPrMk"
      },
      "source": [
        "train_im = tf.data.Dataset.from_tensor_slices(x_train)\r\n",
        "\r\n",
        "train_im = train_im.map(lambda img : tf.cast(img, tf.float32))\r\n",
        "train_im = train_im.map(lambda img : img/255)\r\n",
        "train_im = train_im.map(lambda img: tf.reshape(img, (28,28,1)))\r\n",
        "\r\n",
        "tr_ds = train_im.batch(64)\r\n",
        "\r\n",
        "\r\n",
        "#same for test set\r\n",
        "\r\n",
        "test_im = tf.data.Dataset.from_tensor_slices(x_test)\r\n",
        "\r\n",
        "test_im = test_im.map(lambda img : tf.cast(img, tf.float32))\r\n",
        "test_im = test_im.map(lambda img : img/255)\r\n",
        "test_im = train_im.map(lambda img: tf.reshape(img, (28,28,1)))\r\n",
        "\r\n",
        "\r\n",
        "te_ds = test_im.batch(64)"
      ],
      "execution_count": 3,
      "outputs": []
    },
    {
      "cell_type": "code",
      "metadata": {
        "id": "54eAb9nWP45N"
      },
      "source": [
        "from keras import Model\r\n",
        "class Discriminator(Model): \r\n",
        "  def __init__(self): \r\n",
        "    super(Discriminator, self).__init__()\r\n",
        "\r\n",
        "    self.layers_list = [Conv2D(64, 6, 2, padding='same', activation='relu'), \r\n",
        "                        MaxPooling2D(2),\r\n",
        "                        Dropout(0.2),\r\n",
        "\r\n",
        "                        Conv2D(128, 6, 1, padding='same', activation='relu'), \r\n",
        "                        MaxPooling2D(2),\r\n",
        "                        Dropout(0.3),\r\n",
        "\r\n",
        "                        # Conv2D(64, 3, padding='same', activation='relu'),\r\n",
        "                        # MaxPooling2D(2), \r\n",
        "                        # BatchNormalization(),\r\n",
        "                        # Dropout(0.2), \r\n",
        "\r\n",
        "                        # Conv2D(32, 3, padding='same', activation='relu'),\r\n",
        "                        # MaxPooling2D(2), \r\n",
        "                        # Dropout(0.2),\r\n",
        "\r\n",
        "                        Conv2D(64, 4, padding='same', activation='relu'),\r\n",
        "                        Dropout(0.2), \r\n",
        "\r\n",
        "                        Flatten(),\r\n",
        "                        Dense(1, activation='relu')]\r\n",
        "\r\n",
        "  def call(self, x): \r\n",
        "    for layer in self.layers_list: \r\n",
        "      x = layer(x)\r\n",
        "\r\n",
        "      return x\r\n",
        "\r\n",
        "\r\n",
        "class Generator(Model): \r\n",
        "  def __init__(self): \r\n",
        "    super(Generator, self).__init__()\r\n",
        "\r\n",
        "    self.layers_list = [Dense(128*5*5, activation='sigmoid'),\r\n",
        "                        BatchNormalization(),\r\n",
        "                        Reshape((5,5,128)), \r\n",
        "\r\n",
        "                        Conv2DTranspose(128, (4,4), 2, padding='same', activation='relu'), \r\n",
        "                        BatchNormalization(),\r\n",
        "                        Dropout(0.2), \r\n",
        "\r\n",
        "                        # Conv2DTranspose(32, (5,5), 2, padding='same', activation='relu'), \r\n",
        "                        # BatchNormalization(),\r\n",
        "                        # Dropout(0.2), \r\n",
        "\r\n",
        "                        Conv2DTranspose(64, 4, 2, padding='same', activation='relu'), \r\n",
        "                        BatchNormalization(), \r\n",
        "                        Dropout(0.2),\r\n",
        "\r\n",
        "                        Conv2DTranspose(1, 4, 2, padding='same', activation='sigmoid')]\r\n",
        "\r\n",
        "  def call(self, x): \r\n",
        "    for layer in self.layers_list: \r\n",
        "      x = layer(x, training=True)\r\n",
        "\r\n",
        "    return x \r\n",
        "      "
      ],
      "execution_count": 11,
      "outputs": []
    },
    {
      "cell_type": "code",
      "metadata": {
        "id": "xVYmz1LTSCIN"
      },
      "source": [
        "bce = tf.keras.losses.BinaryCrossentropy(from_logits=True)\r\n",
        "\r\n",
        "def generator_loss(d_pred): \r\n",
        "  \"\"\"\r\n",
        "  d_pred: discriminator's prediction  of the image generated by the generator  \r\n",
        "  take cross entropy between predicted label and all labels as 1s\r\n",
        "  because we want to minimize the difference between them\r\n",
        "  --> the more the discriminator thinks the images are real, the better our generator\r\n",
        "  \"\"\"\r\n",
        "  return bce(tf.ones_like(d_pred), d_pred) # tf.ones_like(d_pred) is same as tf.ones(d_pred.shape)\r\n",
        "\r\n",
        "\r\n",
        "def discriminator_loss(real_img_lbl, fake_img_lbl):\r\n",
        "  \"\"\"\r\n",
        "  real_img_lbl: labels that discriminator predicted when seeing real images (should ideally be all 1s)\r\n",
        "  fake_img_lbl: labels that discriminator predicted when seeing fake images (should ideally be all 0s)\r\n",
        "  \"\"\"\r\n",
        "  real_loss = bce(tf.ones(real_img_lbl.shape), real_img_lbl)\r\n",
        "  fake_loss = bce(tf.zeros(fake_img_lbl.shape), fake_img_lbl)\r\n",
        "\r\n",
        "  return real_loss + fake_loss"
      ],
      "execution_count": 5,
      "outputs": []
    },
    {
      "cell_type": "code",
      "metadata": {
        "id": "5nmXNS-TRS7m"
      },
      "source": [
        "# def training step(generator, discriminator, real_images):\r\n",
        "\r\n",
        "#   create noise\r\n",
        "#   feed into generator\r\n",
        "\r\n",
        "#   feed real images into discriminator, get the predictions\r\n",
        "#   feed fake images into discriminator, get the predictions\r\n",
        "  \r\n",
        "#   calculate discr loss \r\n",
        "#   apply the gradients\r\n",
        "\r\n",
        "#   calc gen loss\r\n",
        "#   apply gradients \r\n",
        "\r\n",
        "#   return both losses\r\n"
      ],
      "execution_count": 6,
      "outputs": []
    },
    {
      "cell_type": "code",
      "metadata": {
        "id": "9LQkFk-ETG9Q"
      },
      "source": [
        "# lr = tf.optimizers.schedules.ExponentialDecay(0.001, 7500, 0.96, staircase=False)\r\n",
        "\r\n",
        "d_optimizer = tf.optimizers.Adam(0.001)\r\n",
        "g_optimizer = tf.optimizers.Adam(0.002)"
      ],
      "execution_count": 7,
      "outputs": []
    },
    {
      "cell_type": "code",
      "metadata": {
        "id": "k1xn4FzISWIc"
      },
      "source": [
        "def training_step(gen, dis, img): \r\n",
        "\r\n",
        "  noise = tf.random.normal([64,100])\r\n",
        "\r\n",
        "  with tf.GradientTape() as d_tape, tf.GradientTape() as g_tape:\r\n",
        "    fake_im = gen(noise, training=True)\r\n",
        "\r\n",
        "    real_pred = dis(img)\r\n",
        "    fake_pred = dis(fake_im)\r\n",
        "\r\n",
        "    d_loss = discriminator_loss(real_pred, fake_pred)\r\n",
        "    g_loss = generator_loss(fake_pred)\r\n",
        "\r\n",
        "    d_gradients = d_tape.gradient(d_loss, dis.trainable_variables)\r\n",
        "    g_gradients = g_tape.gradient(g_loss, gen.trainable_variables)\r\n",
        "        \r\n",
        "  d_optimizer.apply_gradients(zip(d_gradients, dis.trainable_variables)) \r\n",
        "  g_optimizer.apply_gradients(zip(g_gradients, gen.trainable_variables))\r\n",
        "\r\n",
        "  return d_loss, g_loss"
      ],
      "execution_count": 8,
      "outputs": []
    },
    {
      "cell_type": "code",
      "metadata": {
        "id": "chPaf8Z24wZM"
      },
      "source": [
        "def train(dataset, epochs, gen, dis):\r\n",
        "  d_loss = []\r\n",
        "  g_loss = []\r\n",
        "\r\n",
        "  for e in range(epochs):\r\n",
        "    \r\n",
        "    im = gen(tf.random.normal([64, 100]))\r\n",
        "    plt.imshow(im[0,:,:,0])\r\n",
        "    plt.show()\r\n",
        "\r\n",
        "    print(\"Epoch__\"+str(e))\r\n",
        "\r\n",
        "    for im_batch in tqdm(dataset):\r\n",
        "      d_l, g_l = training_step(gen, dis, im_batch)\r\n",
        "      d_loss.append(d_l)\r\n",
        "      g_loss.append(g_l)\r\n",
        "\r\n",
        "    print(np.mean(d_loss), np.mean(g_loss))"
      ],
      "execution_count": 9,
      "outputs": []
    },
    {
      "cell_type": "code",
      "metadata": {
        "colab": {
          "base_uri": "https://localhost:8080/",
          "height": 1000
        },
        "id": "4RU_sskP6Xk2",
        "outputId": "0fe6dad1-785e-44d8-d39a-0552829454b7"
      },
      "source": [
        "tf.keras.backend.clear_session()\r\n",
        "gen = Generator()\r\n",
        "dis = Discriminator()\r\n",
        "train(tr_ds, 10, gen, dis)"
      ],
      "execution_count": 12,
      "outputs": [
        {
          "output_type": "display_data",
          "data": {
            "image/png": "[encoded data removed]",
            "text/plain": [
              "<Figure size 432x288 with 1 Axes>"
            ]
          },
          "metadata": {
            "tags": [],
            "needs_background": "light"
          }
        },
        {
          "output_type": "stream",
          "text": [
            "\r  0%|          | 0/938 [00:00<?, ?it/s]"
          ],
          "name": "stderr"
        },
        {
          "output_type": "stream",
          "text": [
            "Epoch__0\n"
          ],
          "name": "stdout"
        },
        {
          "output_type": "stream",
          "text": [
            "100%|██████████| 938/938 [00:35<00:00, 26.33it/s]\n"
          ],
          "name": "stderr"
        },
        {
          "output_type": "stream",
          "text": [
            "1.3863642 0.69145125\n"
          ],
          "name": "stdout"
        },
        {
          "output_type": "display_data",
          "data": {
            "image/png": "[encoded data removed]",
            "text/plain": [
              "<Figure size 432x288 with 1 Axes>"
            ]
          },
          "metadata": {
            "tags": [],
            "needs_background": "light"
          }
        },
        {
          "output_type": "stream",
          "text": [
            "\r  0%|          | 0/938 [00:00<?, ?it/s]"
          ],
          "name": "stderr"
        },
        {
          "output_type": "stream",
          "text": [
            "Epoch__1\n"
          ],
          "name": "stdout"
        },
        {
          "output_type": "stream",
          "text": [
            "100%|██████████| 938/938 [00:35<00:00, 26.74it/s]\n"
          ],
          "name": "stderr"
        },
        {
          "output_type": "stream",
          "text": [
            "1.3863294 0.692299\n"
          ],
          "name": "stdout"
        },
        {
          "output_type": "display_data",
          "data": {
            "image/png": "[encoded data removed]",
            "text/plain": [
              "<Figure size 432x288 with 1 Axes>"
            ]
          },
          "metadata": {
            "tags": [],
            "needs_background": "light"
          }
        },
        {
          "output_type": "stream",
          "text": [
            "\r  0%|          | 0/938 [00:00<?, ?it/s]"
          ],
          "name": "stderr"
        },
        {
          "output_type": "stream",
          "text": [
            "Epoch__2\n"
          ],
          "name": "stdout"
        },
        {
          "output_type": "stream",
          "text": [
            "100%|██████████| 938/938 [00:35<00:00, 26.52it/s]\n"
          ],
          "name": "stderr"
        },
        {
          "output_type": "stream",
          "text": [
            "1.3863176 0.6925817\n"
          ],
          "name": "stdout"
        },
        {
          "output_type": "display_data",
          "data": {
            "image/png": "[encoded data removed]",
            "text/plain": [
              "<Figure size 432x288 with 1 Axes>"
            ]
          },
          "metadata": {
            "tags": [],
            "needs_background": "light"
          }
        },
        {
          "output_type": "stream",
          "text": [
            "\r  0%|          | 0/938 [00:00<?, ?it/s]"
          ],
          "name": "stderr"
        },
        {
          "output_type": "stream",
          "text": [
            "Epoch__3\n"
          ],
          "name": "stdout"
        },
        {
          "output_type": "stream",
          "text": [
            "100%|██████████| 938/938 [00:35<00:00, 26.47it/s]\n"
          ],
          "name": "stderr"
        },
        {
          "output_type": "stream",
          "text": [
            "1.3863119 0.692723\n"
          ],
          "name": "stdout"
        },
        {
          "output_type": "display_data",
          "data": {
            "image/png": "[encoded data removed]",
            "text/plain": [
              "<Figure size 432x288 with 1 Axes>"
            ]
          },
          "metadata": {
            "tags": [],
            "needs_background": "light"
          }
        },
        {
          "output_type": "stream",
          "text": [
            "\r  0%|          | 0/938 [00:00<?, ?it/s]"
          ],
          "name": "stderr"
        },
        {
          "output_type": "stream",
          "text": [
            "Epoch__4\n"
          ],
          "name": "stdout"
        },
        {
          "output_type": "stream",
          "text": [
            "100%|██████████| 938/938 [00:35<00:00, 26.58it/s]\n"
          ],
          "name": "stderr"
        },
        {
          "output_type": "stream",
          "text": [
            "1.3863083 0.6928079\n"
          ],
          "name": "stdout"
        },
        {
          "output_type": "display_data",
          "data": {
            "image/png": "[encoded data removed]",
            "text/plain": [
              "<Figure size 432x288 with 1 Axes>"
            ]
          },
          "metadata": {
            "tags": [],
            "needs_background": "light"
          }
        },
        {
          "output_type": "stream",
          "text": [
            "\r  0%|          | 0/938 [00:00<?, ?it/s]"
          ],
          "name": "stderr"
        },
        {
          "output_type": "stream",
          "text": [
            "Epoch__5\n"
          ],
          "name": "stdout"
        },
        {
          "output_type": "stream",
          "text": [
            "100%|██████████| 938/938 [00:35<00:00, 26.55it/s]\n"
          ],
          "name": "stderr"
        },
        {
          "output_type": "stream",
          "text": [
            "1.386306 0.6928644\n"
          ],
          "name": "stdout"
        },
        {
          "output_type": "display_data",
          "data": {
            "image/png": "[encoded data removed]",
            "text/plain": [
              "<Figure size 432x288 with 1 Axes>"
            ]
          },
          "metadata": {
            "tags": [],
            "needs_background": "light"
          }
        },
        {
          "output_type": "stream",
          "text": [
            "  0%|          | 2/938 [00:00<00:49, 19.03it/s]"
          ],
          "name": "stderr"
        },
        {
          "output_type": "stream",
          "text": [
            "Epoch__6\n"
          ],
          "name": "stdout"
        },
        {
          "output_type": "stream",
          "text": [
            "100%|██████████| 938/938 [00:35<00:00, 26.65it/s]\n"
          ],
          "name": "stderr"
        },
        {
          "output_type": "stream",
          "text": [
            "1.3863044 0.69290483\n"
          ],
          "name": "stdout"
        },
        {
          "output_type": "display_data",
          "data": {
            "image/png": "[encoded data removed]",
            "text/plain": [
              "<Figure size 432x288 with 1 Axes>"
            ]
          },
          "metadata": {
            "tags": [],
            "needs_background": "light"
          }
        },
        {
          "output_type": "stream",
          "text": [
            "\r  0%|          | 0/938 [00:00<?, ?it/s]"
          ],
          "name": "stderr"
        },
        {
          "output_type": "stream",
          "text": [
            "Epoch__7\n"
          ],
          "name": "stdout"
        },
        {
          "output_type": "stream",
          "text": [
            "100%|██████████| 938/938 [00:35<00:00, 26.27it/s]\n"
          ],
          "name": "stderr"
        },
        {
          "output_type": "stream",
          "text": [
            "1.3863033 0.692935\n"
          ],
          "name": "stdout"
        },
        {
          "output_type": "display_data",
          "data": {
            "image/png": "[encoded data removed]",
            "text/plain": [
              "<Figure size 432x288 with 1 Axes>"
            ]
          },
          "metadata": {
            "tags": [],
            "needs_background": "light"
          }
        },
        {
          "output_type": "stream",
          "text": [
            "\r  0%|          | 0/938 [00:00<?, ?it/s]"
          ],
          "name": "stderr"
        },
        {
          "output_type": "stream",
          "text": [
            "Epoch__8\n"
          ],
          "name": "stdout"
        },
        {
          "output_type": "stream",
          "text": [
            "100%|██████████| 938/938 [00:36<00:00, 25.77it/s]\n"
          ],
          "name": "stderr"
        },
        {
          "output_type": "stream",
          "text": [
            "1.3863024 0.6929585\n"
          ],
          "name": "stdout"
        },
        {
          "output_type": "display_data",
          "data": {
            "image/png": "[encoded data removed]",
            "text/plain": [
              "<Figure size 432x288 with 1 Axes>"
            ]
          },
          "metadata": {
            "tags": [],
            "needs_background": "light"
          }
        },
        {
          "output_type": "stream",
          "text": [
            "\r  0%|          | 0/938 [00:00<?, ?it/s]"
          ],
          "name": "stderr"
        },
        {
          "output_type": "stream",
          "text": [
            "Epoch__9\n"
          ],
          "name": "stdout"
        },
        {
          "output_type": "stream",
          "text": [
            "100%|██████████| 938/938 [00:35<00:00, 26.24it/s]\n"
          ],
          "name": "stderr"
        },
        {
          "output_type": "stream",
          "text": [
            "1.3863015 0.69297737\n"
          ],
          "name": "stdout"
        }
      ]
    },
    {
      "cell_type": "code",
      "metadata": {
        "colab": {
          "base_uri": "https://localhost:8080/",
          "height": 284
        },
        "id": "SwMvln3CaE0S",
        "outputId": "d06c439f-8647-4b50-ea89-e33a68e8a77f"
      },
      "source": [
        "im = gen(tf.random.normal([64, 100]))\r\n",
        "plt.imshow(im[0,:,:,0])"
      ],
      "execution_count": 36,
      "outputs": [
        {
          "output_type": "execute_result",
          "data": {
            "text/plain": [
              "<matplotlib.image.AxesImage at 0x7fdb1609c4a8>"
            ]
          },
          "metadata": {
            "tags": []
          },
          "execution_count": 36
        },
        {
          "output_type": "display_data",
          "data": {
            "image/png": "[encoded data removed]",
            "text/plain": [
              "<Figure size 432x288 with 1 Axes>"
            ]
          },
          "metadata": {
            "tags": [],
            "needs_background": "light"
          }
        }
      ]
    }
  ]
}