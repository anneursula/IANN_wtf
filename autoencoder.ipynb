{
  "nbformat": 4,
  "nbformat_minor": 0,
  "metadata": {
    "accelerator": "GPU",
    "colab": {
      "name": "autoencoder.ipynb",
      "provenance": [],
      "collapsed_sections": []
    },
    "kernelspec": {
      "display_name": "Python 3",
      "name": "python3"
    }
  },
  "cells": [
    {
      "cell_type": "code",
      "metadata": {
        "id": "eguFuqYagS47"
      },
      "source": [
        "import tensorflow as tf\n",
        "from tensorflow import keras\n",
        "import numpy as np\n",
        "from matplotlib import pyplot as plt\n",
        "from keras.layers import Conv2D\n",
        "from keras.layers import Dense\n",
        "from keras.layers import MaxPooling2D\n",
        "from keras.layers import Flatten \n",
        "from keras.layers import GlobalAveragePooling2D\n",
        "from keras.layers import AveragePooling2D\n",
        "from keras import Sequential\n",
        "from keras.layers import UpSampling2D\n",
        "from keras.layers import BatchNormalization\n",
        "from keras.layers import Reshape, Input\n",
        "from keras.layers import Conv2DTranspose\n",
        "from sklearn.manifold import TSNE"
      ],
      "execution_count": 1,
      "outputs": []
    },
    {
      "cell_type": "code",
      "metadata": {
        "id": "UmG7Xpb3gUrD"
      },
      "source": [
        "# Load cifar10 dataset\n",
        "(x_train, _), (x_test, y_test) = tf.keras.datasets.fashion_mnist.load_data()"
      ],
      "execution_count": 2,
      "outputs": []
    },
    {
      "cell_type": "code",
      "metadata": {
        "id": "7FJssn0AgXM5"
      },
      "source": [
        "# Create dataset object from tensors and perform preprocessing\n",
        "# Preprocessing steps involved are:\n",
        "## cast tensors to float\n",
        "## normalize images to values between 0 and 1\n",
        "## one-hot encode labels\n",
        "## zip input and labels\n",
        "## batch dataset\n",
        "## shuffle dataset\n",
        " \n",
        "train_im = tf.data.Dataset.from_tensor_slices(x_train)\n",
        "\n",
        "train_im = train_im.map(lambda img : tf.cast(img, tf.float32))\n",
        "train_im = train_im.map(lambda img : img/255)\n",
        "train_im = train_im.map(lambda img: tf.reshape(img, (28,28,1)))\n",
        "\n",
        "tr_ds = train_im.batch(64)\n",
        "\n",
        "\n",
        "#same for test set\n",
        "\n",
        "test_im = tf.data.Dataset.from_tensor_slices(x_test)\n",
        "\n",
        "test_im = test_im.map(lambda img : tf.cast(img, tf.float32))\n",
        "test_im = test_im.map(lambda img : img/255)\n",
        "test_im = train_im.map(lambda img: tf.reshape(img, (28,28,1)))\n",
        "\n",
        "\n",
        "te_ds = test_im.batch(64)\n",
        "\n"
      ],
      "execution_count": 3,
      "outputs": []
    },
    {
      "cell_type": "code",
      "metadata": {
        "colab": {
          "base_uri": "https://localhost:8080/",
          "height": 265
        },
        "id": "A1jMzHTmgGk8",
        "outputId": "974c6c58-1d54-4659-b008-e66819028e30"
      },
      "source": [
        "for i in tr_ds:\n",
        "  plt.imshow(i[1,:,:,0])\n",
        "  break"
      ],
      "execution_count": 4,
      "outputs": [
        {
          "output_type": "display_data",
          "data": {
            "image/png": "[encoded data removed]",
            "text/plain": [
              "<Figure size 432x288 with 1 Axes>"
            ]
          },
          "metadata": {
            "tags": [],
            "needs_background": "light"
          }
        }
      ]
    },
    {
      "cell_type": "code",
      "metadata": {
        "id": "g8DpqmXegc0L"
      },
      "source": [
        "from keras import Model\n",
        "\n",
        "class Encoder(Model): \n",
        "  def __init__(self): \n",
        "    super(Encoder, self).__init__()\n",
        "\n",
        "\n",
        "    self.layers_list = [Conv2D(16, 3, padding='same', activation='relu'),\n",
        "                        BatchNormalization(), \n",
        "                        MaxPooling2D(2),\n",
        "\n",
        "                        Conv2D(32, 3, activation='relu', padding='same'),\n",
        "                        BatchNormalization(), \n",
        "\n",
        "                        MaxPooling2D(2),\n",
        "                        Conv2D(32, 3, activation='relu', padding='same'),\n",
        "                        BatchNormalization(),\n",
        "                        MaxPooling2D(2), \n",
        "\n",
        "                        Flatten(), \n",
        "                        Dense(10, activation='softmax')\n",
        "                        ]\n",
        "\n",
        "\n",
        "  def call(self, x):\n",
        "    for i, layer in enumerate(self.layers_list):\n",
        "      # print(tf.shape(x), '___',i)\n",
        "      x = layer(x)\n",
        "    # print(tf.shape(x), '___')\n",
        "\n",
        "    return x\n",
        "\n",
        "\n",
        "\n",
        "class Decoder(Model): \n",
        "  def __init__(self): \n",
        "    super(Decoder, self).__init__()\n",
        "\n",
        "    self.layers_list = [Dense(49), \n",
        "                        Reshape((7,7,1)),\n",
        "                        Conv2D(32, (3,3), padding='same', activation='relu'),\n",
        "                        BatchNormalization(),\n",
        "                        UpSampling2D((2,2)), \n",
        "\n",
        "                        Conv2D(64, (3,3), activation='relu', padding='same'),\n",
        "                        BatchNormalization(),\n",
        "                        UpSampling2D((2,2)), \n",
        "\n",
        "                        Conv2D(32 ,(3,3), activation='relu', padding='same'),\n",
        "                        Conv2D(1, (3,3), activation='sigmoid', padding='same')\n",
        "                        ]\n",
        "\n",
        "\n",
        "  def call(self, x):\n",
        "    for i, layer in enumerate(self.layers_list):\n",
        "      # print(tf.shape(x), '___',i)\n",
        "      x = layer(x)\n",
        "    # print(tf.shape(x), '___',i)\n",
        "    return x\n",
        "\n"
      ],
      "execution_count": 5,
      "outputs": []
    },
    {
      "cell_type": "code",
      "metadata": {
        "id": "67iGNRGTeVej"
      },
      "source": [
        "class AutoEncoder(Model):\n",
        "  def __init__(self):\n",
        "    super(AutoEncoder, self).__init__()\n",
        "\n",
        "    self.layers_list= [Encoder(),\n",
        "                       Decoder()]\n",
        "\n",
        "  def call(self, x):\n",
        "    for layer in self.layers_list:\n",
        "      x = layer(x)\n",
        "\n",
        "    return x\n",
        "\n",
        "  def get_enc(self):\n",
        "    return self.layers_list[0]\n",
        "\n",
        "\n",
        "  def get_dec(self):\n",
        "    return self.layers_list[1]\n",
        "\n"
      ],
      "execution_count": 6,
      "outputs": []
    },
    {
      "cell_type": "code",
      "metadata": {
        "colab": {
          "base_uri": "https://localhost:8080/",
          "height": 282
        },
        "id": "xM-ZXsigaeK6",
        "outputId": "b9be146f-0930-4e4f-a5bd-7179b4bac169"
      },
      "source": [
        "enc = Encoder()\n",
        "\n",
        "dec = Decoder()\n",
        "inp = tf.random.normal((28,28,1))\n",
        "inp = tf.reshape(inp, (1,28,28,1))\n",
        "#out = tf.constant([-0.23541524, -0.0633513 , -0.14792025, -0.49539533,  0.7927028 , 0.04283119,  0.02038066,  0.12454496], shape=(8,1))\n",
        "\n",
        "res = dec(enc(inp))\n",
        "plt.imshow(res[0,:,:,0])"
      ],
      "execution_count": 7,
      "outputs": [
        {
          "output_type": "execute_result",
          "data": {
            "text/plain": [
              "<matplotlib.image.AxesImage at 0x7fdbcff91630>"
            ]
          },
          "metadata": {
            "tags": []
          },
          "execution_count": 7
        },
        {
          "output_type": "display_data",
          "data": {
            "image/png": "[encoded data removed]",
            "text/plain": [
              "<Figure size 432x288 with 1 Axes>"
            ]
          },
          "metadata": {
            "tags": [],
            "needs_background": "light"
          }
        }
      ]
    },
    {
      "cell_type": "code",
      "metadata": {
        "id": "Ym4-whn4kISu"
      },
      "source": [
        "# We use a dynamic learning rate which decays exponantially\n",
        "# As an optimiser we use adam\n",
        "\n",
        "lr = tf.keras.optimizers.schedules.ExponentialDecay(0.001, \n",
        "                                                    5000, \n",
        "                                                    0.97,\n",
        "                                                    staircase=True)\n",
        "opt = tf.optimizers.Adam(learning_rate=lr)"
      ],
      "execution_count": 8,
      "outputs": []
    },
    {
      "cell_type": "code",
      "metadata": {
        "id": "0GjjVWVgj6QA"
      },
      "source": [
        "# model = DenseNet()\n",
        "\n",
        "# model.compile(optimizer=opt, \n",
        "#              loss='categorical_crossentropy', \n",
        "#              metrics=['acc'])\n",
        "\n",
        "# model.fit(tr_ds, validation_data=te_ds, epochs=30, shuffle=True)"
      ],
      "execution_count": 9,
      "outputs": []
    },
    {
      "cell_type": "code",
      "metadata": {
        "id": "nRETQYXeKp9w"
      },
      "source": [
        "# Training method returns mean loss and mean accuracy of the batch\n",
        "\n",
        "def train(model, input, target, loss_f, optimizer): \n",
        "  with tf.GradientTape() as tape: \n",
        "    prediction = model(input)\n",
        "    loss = loss_f(target, prediction)\n",
        "    gradients = tape.gradient(loss, model.trainable_variables)\n",
        "  optimizer.apply_gradients(zip(gradients, model.trainable_variables))\n",
        "  acc = np.argmax(target, axis=1) == np.argmax(prediction, axis=1)\n",
        "\n",
        "\n",
        "  return np.mean(loss.numpy()), np.mean(acc)\n",
        "\n",
        "\n",
        "# Test method takes in whole test dataset and returns mean loss and mean accuracy on the whole test data\n",
        "def test(model, test_data, loss_f): \n",
        "  test_acc = []\n",
        "  test_loss = []\n",
        "  #pred = None\n",
        "\n",
        "  fig, axes = plt.subplots(10,2, figsize=(50,10))\n",
        "\n",
        "  for i, input in enumerate(test_data): \n",
        "    prediction = model(input, training=False)\n",
        "    loss = loss_f(input, prediction)\n",
        "    loss = np.mean(loss.numpy())\n",
        "    acc = np.argmax(input, axis=1) == np.argmax(prediction, axis=1)\n",
        "    test_loss.append(loss)\n",
        "    test_acc.append(np.mean(acc))\n",
        "    if i < 10:\n",
        "      axes[i,0].imshow(input[0,:,:,0], )\n",
        "      axes[i,1].imshow(prediction[0,:,:,0])\n",
        "  \n",
        "  \n",
        "\n",
        "  fin_loss = np.mean(np.array(test_loss))\n",
        "  fin_acc = np.mean(test_acc)\n",
        "\n",
        "  return fin_loss, fin_acc, axes"
      ],
      "execution_count": 10,
      "outputs": []
    },
    {
      "cell_type": "code",
      "metadata": {
        "id": "_CWWk9f0zwTM"
      },
      "source": [
        "# Define additional hyperparameters\n",
        "\n",
        "# Loss is categorical crossentropy\n",
        "# The model will train for 30 epochs\n",
        "\n",
        "\n",
        "tf.keras.backend.clear_session()\n",
        "\n",
        "num_epochs = 20\n",
        "learning_rate = 0.001\n",
        "running_average_factor = 0.95\n",
        "\n",
        "\n",
        "loss = tf.keras.losses.MSE\n",
        "\n",
        "optimizer = opt\n",
        "\n",
        "train_losses = []\n",
        "train_accuracies = []\n",
        "test_losses = []\n",
        "test_accuracies = []"
      ],
      "execution_count": 11,
      "outputs": []
    },
    {
      "cell_type": "code",
      "metadata": {
        "colab": {
          "base_uri": "https://localhost:8080/"
        },
        "id": "LvJ3PLSUzxYy",
        "outputId": "68412cd1-fa43-4570-d309-1d9a8905b5c4"
      },
      "source": [
        "# Custom training loop\n",
        "# Each epoch the model will learn on the shuffled and batched training data and will then evaluate the training step on the whole test dataset\n",
        "\n",
        "model = AutoEncoder()\n",
        "for epoch in range(num_epochs):\n",
        "  print('Epoch:__' + str(epoch))\n",
        "\n",
        "  tr_ds = tr_ds.shuffle(buffer_size=128).prefetch(2)\n",
        "  te_ds = te_ds.shuffle(buffer_size=128).prefetch(2)\n",
        "\n",
        "\n",
        "  running_average = 0\n",
        "  batch_acc = []\n",
        "  for input in tr_ds: \n",
        "    train_l, train_acc = train(model, input, input, loss, optimizer)\n",
        "    running_average = (running_average_factor * running_average) + (1 - running_average_factor) * train_l\n",
        "    batch_acc.append(train_acc)\n",
        "\n",
        "  train_losses.append(running_average)\n",
        "  train_accuracies.append(np.mean(batch_acc))\n",
        "  print('Train losses: ', train_losses[-1])\n",
        "\n",
        "  #testing\n",
        "  test_loss, test_accu, axes = test(model, te_ds, loss)\n",
        "  test_losses.append(test_loss)\n",
        "  test_accuracies.append(test_accu)\n",
        "  #axes.draw()\n",
        "  print('Test loss: ', test_loss)\n",
        "  print()\n"
      ],
      "execution_count": null,
      "outputs": [
        {
          "output_type": "stream",
          "text": [
            "Epoch:__0\n",
            "Train losses:  0.026924545333338237\n",
            "Test loss:  0.027394159\n",
            "\n",
            "Epoch:__1\n",
            "Train losses:  0.02376269679719912\n",
            "Test loss:  0.023766547\n",
            "\n",
            "Epoch:__2\n",
            "Train losses:  0.021958484768357\n",
            "Test loss:  0.021619828\n",
            "\n",
            "Epoch:__3\n",
            "Train losses:  0.020581574005801007\n"
          ],
          "name": "stdout"
        }
      ]
    },
    {
      "cell_type": "code",
      "metadata": {
        "id": "xenhOwxnz3GT"
      },
      "source": [
        "# Visualize accuracy and loss for training and test data. \n",
        "# One plot training and test loss.\n",
        "# One plot training and test accuracy.\n",
        "plt.figure()\n",
        "line1, = plt.plot(train_losses)\n",
        "line2, = plt.plot(test_losses)\n",
        "plt.xlabel(\"Training steps\")\n",
        "plt.ylabel(\"Loss\")\n",
        "plt.legend((line1,line2),(\"training\",\"test\"))\n",
        "plt.show()\n",
        "\n",
        "plt.figure()\n",
        "line1, = plt.plot(train_accuracies)\n",
        "line2, = plt.plot(test_accuracies)\n",
        "plt.xlabel(\"Training steps\")\n",
        "plt.ylabel(\"Accuracy\")\n",
        "plt.show()"
      ],
      "execution_count": null,
      "outputs": []
    },
    {
      "cell_type": "code",
      "metadata": {
        "id": "DIBwwo9oD20e"
      },
      "source": [
        "images = test_im.batch(1)\n",
        "enc = model.get_enc()\n",
        "encoded_images = []\n",
        "for i, im in enumerate(images):\n",
        "  encoded_images.append(enc(im))\n",
        "  if i > 998:\n",
        "    break\n",
        "\n"
      ],
      "execution_count": null,
      "outputs": []
    },
    {
      "cell_type": "code",
      "metadata": {
        "id": "TJ1azfAbLihN"
      },
      "source": [
        "print(encoded_images)"
      ],
      "execution_count": null,
      "outputs": []
    },
    {
      "cell_type": "code",
      "metadata": {
        "id": "kB04WfC5MjOy"
      },
      "source": [
        "encoded_ima = np.asarray(encoded_images)\n",
        "encoded_ima = encoded_ima.squeeze()"
      ],
      "execution_count": null,
      "outputs": []
    },
    {
      "cell_type": "code",
      "metadata": {
        "id": "ArHzwkMqMnUE"
      },
      "source": [
        "tee_schnirt = []\n",
        "tsne = TSNE()\n",
        "tee_schnirt.append(tsne.fit_transform(encoded_ima))"
      ],
      "execution_count": null,
      "outputs": []
    },
    {
      "cell_type": "code",
      "metadata": {
        "id": "fhGII5W3TSs5"
      },
      "source": [
        "y_test"
      ],
      "execution_count": null,
      "outputs": []
    },
    {
      "cell_type": "code",
      "metadata": {
        "id": "WWjijn2cONOm"
      },
      "source": [
        "tee = np.asarray(tee_schnirt).squeeze()"
      ],
      "execution_count": null,
      "outputs": []
    },
    {
      "cell_type": "code",
      "metadata": {
        "id": "JC9Mj-2_ORMF"
      },
      "source": [
        "group = np.array([1,2,3,4,5,6,7,8,9,0])\n",
        "cdict = {1: 'red', 2: 'blue', 3: 'green', 4: 'purple', 5: 'black', 6: 'orange', 7: 'pink', 8: 'brown', 9: 'peru', 0: 'magenta'}\n",
        "#ndict = {1: 'Trouser', 2: 'Pullover', 3: 'Dress', 4: 'Coat', 5: 'Sandal', 6: 'Shirt', 7: 'Sneaker', 8: 'Bag', 9: 'Ankle Boot', 0: 'T-Shirt/Top'}\n",
        "\n",
        "# print(cdict[y_test[1]])\n",
        "fig, ax = plt.subplots()\n",
        "for i, data in enumerate(tee):\n",
        "  # print(data)\n",
        "  ax.scatter(data[0], data[1], c = cdict[y_test[i]], s = 50)\n",
        "# ax.legend()\n",
        "plt.show()"
      ],
      "execution_count": null,
      "outputs": []
    },
    {
      "cell_type": "code",
      "metadata": {
        "id": "NywsA_rRR498"
      },
      "source": [
        ""
      ],
      "execution_count": null,
      "outputs": []
    }
  ]
}