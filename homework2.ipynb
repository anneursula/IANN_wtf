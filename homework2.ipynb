{
  "nbformat": 4,
  "nbformat_minor": 0,
  "metadata": {
    "colab": {
      "name": "Untitled0.ipynb",
      "provenance": [],
      "collapsed_sections": []
    },
    "kernelspec": {
      "name": "python3",
      "display_name": "Python 3"
    }
  },
  "cells": [
    {
      "cell_type": "markdown",
      "metadata": {
        "id": "Qiw-2Yag0V2W"
      },
      "source": [
        "# Implementation of a Multi-Layer Perceptron\n",
        "In this Notebook you will find a simple implementation of a Multi-layer Perceptron that can perform standard logical operations (and, or, nand, nor, xor)."
      ]
    },
    {
      "cell_type": "code",
      "metadata": {
        "id": "NFZx-o7bxEot"
      },
      "source": [
        "import numpy as np\n",
        "from scipy.special import expit\n",
        "import matplotlib.pyplot as plt"
      ],
      "execution_count": null,
      "outputs": []
    },
    {
      "cell_type": "markdown",
      "metadata": {
        "id": "vgIGzaHA1B1c"
      },
      "source": [
        "## Data Set\n",
        "We create a data set for each operator. x is an array of all possible inputs. For operator we define another array with the target outputs in the correct order to nicely map on x."
      ]
    },
    {
      "cell_type": "code",
      "metadata": {
        "id": "Dz3RnhZ9xPQ5"
      },
      "source": [
        "# data structure\n",
        "x = np.array([[0,0],[1,0],[0,1],[1,1]])\n",
        "\n",
        "# targets\n",
        "t_and = np.array([0,0,0,1])\n",
        "t_or = np.array([0,1,1,1])\n",
        "t_xor = np.array([0,1,1,0])\n",
        "t_nand = np.array([1,1,1,0])\n",
        "t_nor = np.array([1,0,0,0])"
      ],
      "execution_count": null,
      "outputs": []
    },
    {
      "cell_type": "markdown",
      "metadata": {
        "id": "eYG3MelE11VB"
      },
      "source": [
        "## Perceptron\n",
        "The Perceptron is the basic unit of an MLP. It can take in a number of inputs, multiply them with weights, add them together and produce an output according to the activation function (in this case the sigmoid function). The perceptron will also pdate itself when an errorsignal is given and thus, adjust it's weights and the bias."
      ]
    },
    {
      "cell_type": "code",
      "metadata": {
        "id": "Wd3fDY2WzC8K"
      },
      "source": [
        "class Perceptron: \n",
        "  def __init__(self, input_units):\n",
        "    #number of inputs\n",
        "    self.input_units = input_units\n",
        "    # stores the last given input\n",
        "    self.input = []\n",
        "    #init random weights + bias for starters\n",
        "    self.weights = np.random.randn(input_units)\n",
        "    #print(self.weights)\n",
        "    self.bias = np.random.randn()\n",
        "    #define learning rate as 1\n",
        "    self.alpha = 1\n",
        "    self.w_sum = 0\n",
        "    \n",
        "\n",
        "  def forward(self, input):\n",
        "    self.input = input\n",
        "\n",
        "    #calculate weighted sum \n",
        "    self.w_sum = input @ self.weights + self.bias\n",
        "\n",
        "    #return activated sum\n",
        "    return expit(self.w_sum)\n",
        "\n",
        "  def update(self, delta):  \n",
        "    #update weights and bias\n",
        "    n_weights = self.weights - self.alpha * delta * np.array(self.input)\n",
        "    n_bias = self.bias - self.alpha * delta * np.array(self.input)\n",
        "\n",
        "    self.weights = n_weights\n",
        "    self.n_bias = n_bias\n",
        "\n",
        "\n",
        "\n",
        "\n",
        "    "
      ],
      "execution_count": null,
      "outputs": []
    },
    {
      "cell_type": "markdown",
      "metadata": {
        "id": "tEB1znrc3DHc"
      },
      "source": [
        "## The Multi-Layer Perceptron\n",
        "\n",
        "This MLP consits of the inputlayer one hidden layer with 4 Perceptrons and one outputlayer with only one Perceptron. The input layer receives a two dimensional vector and distributes this input to the hiddenlayer.\n",
        "\n",
        "In the training process, the MLP will compare it's generated output to the target output and will start the back-propagation process."
      ]
    },
    {
      "cell_type": "code",
      "metadata": {
        "id": "lLQ46slu8VLF"
      },
      "source": [
        "class MLP: \n",
        "  def __init__(self, hl_size, input_units):\n",
        "    self.input_units = input_units\n",
        "    self.h_layer = [Perceptron(input_units) for p in range(0, hl_size)]\n",
        "    self.output = Perceptron(hl_size)\n",
        "    \n",
        "  def forward_step(self, input):\n",
        "    res = []\n",
        "    for p in self.h_layer:\n",
        "      res.append(p.forward(input))\n",
        "    pred = self.output.forward(res)\n",
        "    return pred\n",
        "    \n",
        "  \n",
        "  def backprop_step(self, pred, target):\n",
        "    deri = expit(self.output.w_sum)*(1-expit(self.output.w_sum))\n",
        "    \n",
        "\n",
        "    delta = (pred - target) * deri\n",
        "    deltas = []\n",
        "\n",
        "    for i, p in enumerate(self.h_layer): \n",
        "      deltas.append(delta * self.output.weights[i] * (expit(p.w_sum)*(1-expit(p.w_sum))))\n",
        "    \n",
        "    self.output.update(delta)\n",
        "    \n",
        "    for i, p in enumerate(self.h_layer): \n",
        "      p.update(deltas[i])\n",
        "\n",
        "  \n",
        "   "
      ],
      "execution_count": null,
      "outputs": []
    },
    {
      "cell_type": "markdown",
      "metadata": {
        "id": "j2MKq6cP3xxY"
      },
      "source": [
        "## The Actual Training Process\n",
        "\n",
        "Here, we instatiate the MLP and define the number of epochs. Each epoch uses each point in the data set once. For each epoch the loss (squared difference between taget and output) is calculated and also the average accuracy."
      ]
    },
    {
      "cell_type": "code",
      "metadata": {
        "id": "q3zaOLCK_CJy",
        "outputId": "467eaf3e-e655-4cad-839c-f83bafcdabcd",
        "colab": {
          "base_uri": "https://localhost:8080/"
        }
      },
      "source": [
        "mlp = MLP(4,2)\n",
        "epochs = 1000\n",
        "eval = []\n",
        "\n",
        "#take random int (1-4) choose input from it and then compare to \n",
        "#target at same position\n",
        "\n",
        "for i in range(epochs): \n",
        "  indeces = [0,1,2,3]\n",
        "  np.random.shuffle(indeces)\n",
        "  accuracy = 0\n",
        "  loss = 0\n",
        "  for input in indeces:\n",
        "    target = t_xor[input]\n",
        "    pred = mlp.forward_step(x[input])\n",
        "    mlp.backprop_step(pred, target)\n",
        "    loss += (target - pred)**2\n",
        "    accuracy += int(int(pred>0.5) == target)\n",
        "  eval.append((loss/4,accuracy/4))\n",
        "\n",
        "\n",
        "print(mlp.forward_step([1,1]))\n",
        "print(mlp.forward_step([0,1]))\n",
        "print(mlp.forward_step([1,0]))\n",
        "print(mlp.forward_step([0,0]))\n",
        "\n",
        "\n",
        "\n"
      ],
      "execution_count": null,
      "outputs": [
        {
          "output_type": "stream",
          "text": [
            "0.07253819283194911\n",
            "0.9016126019948231\n",
            "0.8975246314815458\n",
            "0.13057560272868882\n"
          ],
          "name": "stdout"
        }
      ]
    },
    {
      "cell_type": "markdown",
      "metadata": {
        "id": "DTfMv9W051Wn"
      },
      "source": [
        "## Showing the Results\n",
        "\n",
        "In the graph below, the development over epochs of loss (blue) and accuracy (orange) are depicted.\n"
      ]
    },
    {
      "cell_type": "code",
      "metadata": {
        "id": "xp4MsCxrKz5w",
        "outputId": "baccb290-e2ae-459f-ed9c-1fa095871795",
        "colab": {
          "base_uri": "https://localhost:8080/",
          "height": 279
        }
      },
      "source": [
        "plt.plot(np.array(eval)[:,0])\n",
        "plt.plot(np.array(eval)[:,1])\n",
        "plt.xlabel(\"Epoch\")\n",
        "plt.legend([\"Loss\", \"Accuracy\"])\n",
        "plt.show()"
      ],
      "execution_count": null,
      "outputs": [
        {
          "output_type": "display_data",
          "data": {
            "image/png": "[encoded data removed]",
            "text/plain": [
              "<Figure size 432x288 with 1 Axes>"
            ]
          },
          "metadata": {
            "tags": [],
            "needs_background": "light"
          }
        }
      ]
    },
    {
      "cell_type": "code",
      "metadata": {
        "id": "sOdyyjCzUj0L"
      },
      "source": [
        ""
      ],
      "execution_count": null,
      "outputs": []
    }
  ]
}